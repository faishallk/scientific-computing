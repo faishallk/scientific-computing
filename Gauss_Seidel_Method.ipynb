{
  "nbformat": 4,
  "nbformat_minor": 0,
  "metadata": {
    "colab": {
      "provenance": [],
      "collapsed_sections": []
    },
    "kernelspec": {
      "name": "python3",
      "display_name": "Python 3"
    },
    "language_info": {
      "name": "python"
    }
  },
  "cells": [
    {
      "cell_type": "markdown",
      "source": [
        "#LAB 2 - FAISHAL KAMIL"
      ],
      "metadata": {
        "id": "0nkka1OgajZW"
      }
    },
    {
      "cell_type": "code",
      "execution_count": null,
      "metadata": {
        "colab": {
          "base_uri": "https://localhost:8080/"
        },
        "id": "Ro1fn__vwKOn",
        "outputId": "d2936c99-3baf-4039-d4e6-b8ecd7d0dba7"
      },
      "outputs": [
        {
          "output_type": "stream",
          "name": "stdout",
          "text": [
            "NOT diagonally dominant\n"
          ]
        }
      ],
      "source": [
        "import numpy as np\n",
        "a = [[2, 3, 1, 1], [1, 1, 5, -1], [3, 2, 2, 4], [4, -1, 3, 2]]\n",
        "\n",
        "#find diagonal coefficients\n",
        "diag = np.diag(np.abs(a))\n",
        "\n",
        "#find row sum without diagonal\n",
        "#note: axis=1 it means penjumlahan secara horizontal\n",
        "off_diag = np.sum(np.abs(a), axis=1) - diag\n",
        "\n",
        "if np.all(diag > off_diag):\n",
        "  print('Matrix is diagonally dominant')\n",
        "else:\n",
        "  print('NOT diagonally dominant')"
      ]
    },
    {
      "cell_type": "code",
      "source": [
        "import numpy as np\n",
        "a=np.array([0,1,0,1,0])\n",
        "b=np.array([1,0,1,0,1])\n",
        "c=a*b\n",
        "print(c)"
      ],
      "metadata": {
        "id": "don_UPhvPjGN",
        "outputId": "5337ca5b-cd00-49b8-e091-b1a68d42343f",
        "colab": {
          "base_uri": "https://localhost:8080/"
        }
      },
      "execution_count": null,
      "outputs": [
        {
          "output_type": "stream",
          "name": "stdout",
          "text": [
            "[0 0 0 0 0]\n"
          ]
        }
      ]
    },
    {
      "cell_type": "code",
      "source": [
        "import numpy as np\n",
        "a = [[9, 1, -7], [-2, 1, 5], [3, 5, 1]]\n",
        "\n",
        "#Find diagonal coefficients\n",
        "diag = np.diag(np.abs(a))\n",
        "\n",
        "#Find row sum without diagonal\n",
        "off_diag = np.sum(np.abs(a), axis = 1) - diag\n",
        "\n",
        "if np.all(diag > off_diag):\n",
        "  print('matrix is diagonally dominant')\n",
        "else:\n",
        "  print('NOT diagonally dominant')\n",
        "\n",
        "x1 = 0\n",
        "x2 = 0\n",
        "x3 = 0\n",
        "epsilon = 0.01\n",
        "converged = False\n",
        "\n",
        "x_old = np.array([x1, x2, x3])\n",
        "\n",
        "print('Iteration results')\n",
        "print('k, x1, x2, x3')\n",
        "for k in range(1, 50):\n",
        "  x1=(14-10*x2-7*x3)/9\n",
        "  x2=(5-2*x1+5*x3)/1\n",
        "  x3= (-8-3*x1+5*x2)/1\n",
        "  x = np.array([x1, x2, x3])\n",
        "  \n",
        "  #check if it is smaller than threshold\n",
        "  dx = np.sqrt (np.dot (x-x_old, x-x_old))\n",
        "\n",
        "  print(\"%d, %.4f, %.4f, %.4f\"%(k, x1, x2, x3))\n",
        "  if dx < epsilon:\n",
        "    converged = True\n",
        "    print ('Converged!')\n",
        "    break\n",
        "\n",
        "  # agsign the latest x value to the old value\n",
        "  x_old = x\n",
        "\n",
        "if not converged:\n",
        "  print('Not converge, increase the # of iterations')"
      ],
      "metadata": {
        "colab": {
          "base_uri": "https://localhost:8080/"
        },
        "id": "ulxXLz_cC5Jf",
        "outputId": "7f28faf0-7a6f-41da-bb93-28fc3e8503c9"
      },
      "execution_count": null,
      "outputs": [
        {
          "output_type": "stream",
          "name": "stdout",
          "text": [
            "NOT diagonally dominant\n",
            "Iteration results\n",
            "k, x1, x2, x3\n",
            "1, 1.5556, 1.8889, -3.2222\n",
            "2, 1.9630, -15.0370, -89.0741\n",
            "3, 87.5432, -615.4568, -3347.9136\n",
            "4, 3289.3292, -23313.2263, -126442.1193\n",
            "5, 124249.0110, -880703.6187, -4776273.1262\n",
            "6, 4693440.2300, -33268241.0910, -180421534.1449\n",
            "7, 177292573.7694, -1256692813.2635, -6815341795.6258\n",
            "8, 6697146746.2240, -47471002465.5771, -257446452574.5576\n",
            "9, 252981688076.8527, -1793195639021.4932, -9724923259346.0234\n",
            "10, 9556268800627.8984, -67737153897980.9141, -367354575891796.2500\n",
            "11, 360983730024710.7500, -2558740339508398.0000, -13876652887616130.0000\n",
            "12, 13635997067599656.0000, -96655258573279952.0000, -524184284069198720.0000\n",
            "13, 515093619357465600.0000, -3651108659060924928.0000, -19800824153377021952.0000\n",
            "14, 19457428407138713600.0000, -137918977581162528768.0000, -747967173127228882944.0000\n",
            "15, 734995554189136363520.0000, -5209826974014416879616.0000, -28254121532639491915776.0000\n",
            "16, 27764124496513403453440.0000, -196798856656224262291456.0000, -1067286656770661496651776.0000\n",
            "17, 1048777240439652588978176.0000, -7433987764732612661215232.0000, -40316270544982024294236160.0000\n",
            "18, 39617085718022257333239808.0000, -280815524160954644727595008.0000, -1522928877958839823839002624.0000\n",
            "19, 1496517487480158364763160576.0000, -10607679364754514474331799552.0000, -57527949286213052413750804480.0000\n",
            "20, 56530270961226287867156758528.0000, -400700288353517872987439628288.0000, -2173092254651268193354296328192.0000\n",
            "21, 2135405407343783977986610429952.0000, -15136272087943908922744702500864.0000, -82087576661750904710457668403200.0000\n",
            "22, 80663973056855051915182997504000.0000, -571765829422464627382654337024000.0000, -3100821066282888103507636328071168.0000\n",
            "23, 3047045084244984777597777518526464.0000, -21598195499904408343351479767138304.0000, -117132112752256983943874933019377664.0000\n",
            "24, 115100749362760339338998628944445440.0000, -815862062486805635290860070404882432.0000, -4424612560522309323598504754824609792.0000\n",
            "25, 4347878727613802565981962209398358016.0000, -30818820257839150569364827475508461568.0000, -167137737472037163496249075799265640448.0000\n",
            "26, 164239151653627952734392008826180075520.0000, -1164166990667441666281631602212945788928.0000, -6313552408298092208500799969021850025984.0000\n",
            "27, 6204059640529006163692211991646883020800.0000, -43975881322548474578814243443032190877696.0000, -238491585534329386549444574731584904626176.0000\n",
            "28, 234355545773976686759430095986053456330752.0000, -1661169019219600383637335520966298616987648.0000, -9008911733419931552923079388440183957356544.0000\n",
            "29, 8852674702903946501903857166871433263972352.0000, -62749908072907548292543032705183236516478976.0000, -340307564473249578492546656455769932576063488.0000\n",
            "30, 334405781337980298981064661196766342253903872.0000, -2370349385042208490424862604672382347388125184.0000, -12854964269224982239873231807251484454087032832.0000\n",
            "31, 12632027081666328601581638680767856767859163136.0000, -89538875509457570937830636854251938799559901184.0000, -485590458792286794858476492097304810420061601792.0000\n",
            "32, 477169107404509232316217264484291027267863183360.0000, -3382290508770452114406263331028379323480013799424.0000, -18342959866065786808646476985674499175001565954048.0000\n",
            "33, 18024847127796115177003695556916303361728399278080.0000, -127764493585921154012646058972549845537471969886208.0000, -692897009312994115594241381533498137772545047265280.0000\n",
            "34, 680880444561130038809572251162220602198059447746560.0000, -4826245935687230738667101146549173949746785399341056.0000, -26173871012119541732845479072301480143129573651906560.0000\n",
            "35, 25719950715745453877231267926391944284166356274774016.0000, -182309256492088605784865964934964306053524098566324224.0000, -988706134607679310802343881359044988891695944835268608.0000\n",
            "36, 971559500797182359273896313206995331419679177723346944.0000, -6886649674632761272559512033209215607297838079623036928.0000, -37347926875555354801748716789420917884246657658358071296.0000\n",
            "37, 36700220541690564747393495668944449191968965237112045568.0000, -260140075461157919837084187490039734047152375490888597504.0000, -1410801038930861271649529941516970356155693897532613591040.0000\n",
            "38, 1386334225236400880632553289110966282257064670285761871872.0000, -9826673645127108467961900012847770931788196838365240229888.0000, -53292370901344741148766578934120901054260600091246352924672.0000\n",
            "39, 52368148084520477844101838981178104846372667759203195027456.0000, -371198150675764650281663973367649144196189199650457401688064.0000, -2013095197632384841045841773496142026270091910068427135385600.0000\n",
            "40, 1978183098909371501360206660270747271205899281972686089093120.0000, -14021842185980666494325775835042264144619273389539939663740928.0000, -76043760226631445548461806450063681478428095344122620203237376.0000\n",
            "41, 74724971494025202638380644363082786825244060654457950752997376.0000, -529668744121207621601088779328804932576340842433567911460208640.0000, -2872518635088113761592511996323989217222587416515057773807927296.0000\n",
            "42, 2822701987425430384510777233263366413736060087513107868468379648.0000, -20007997150291432134611979777226785770033514511096789003858345984.0000, -108508091713733459864851235905890078211642332757579876732325855232.0000\n",
            "43, 106626290388783168557339139091005745991430461217055412518882639872.0000, -755793039346233613054908260417015191782115262761481894204473868288.0000, -4098844067897517407258375338296966358072166433234877507114572447744.0000\n",
            "44, 4027759874304994873974344360936255418083314303467330904526744977408.0000, -28549740088097573791085212159668166145380923370161425089276504178688.0000, -154831980063402850584193740627460420500008022358261493904612907810816.0000\n",
            "45, 152146806813866185339440608884376799233854787887318190464695179149312.0000, -1078453513944746743326064051053622760213611183683848820666448817946624.0000, -5848707990165332559991555994275405140959687872764170603239915036606464.0000\n",
            "46, 5747276785622754783828691241292308450148154024524878555692801128923136.0000, -40738093522072170068871851155128355067574206687406834699476494165475328.0000, -220932297967229108565863166035963267254927386909372074689504385479737344.0000\n",
            "47, 217100780110147284303275032135545928488271501428828957935622162195939328.0000, -1538863050056440111435865894450908193251179937404518289318766251790565376.0000, -8345617590612643219246800145850495964927944526672327271094954258482593792.0000\n",
            "48, 8200883737205878183231806662829172631889712340083497087872482480809312256.0000, -58129855427474974031973047901581016047366503115445234556808597370040221696.0000, -315251928348992492155357188723031070460922806182143831842949545364560019456.0000\n",
            "49, 309784672524188590105473945312293658935101459842531943390649075614779179008.0000, -2195828986793339841854989366613527112920078493241108361271420100901462867968.0000, -11908498951539264376989602071883163213169912217797161690702925062804338638848.0000\n",
            "Not converge, increase the # of iterations\n"
          ]
        }
      ]
    },
    {
      "cell_type": "code",
      "source": [
        "#soal slide 10\n",
        "\n",
        "\n",
        "b = [[9, 10, -7], [-2, 8, 5], [3, 5, 10]]\n",
        "diag = np.diag(np.abs(b))\n",
        "\n",
        "#find row sum without diagonal\n",
        "#note: axis=1 it means penjumlahan secara horizontal\n",
        "off_diag = np.sum(np.abs(b), axis=1) - diag\n",
        "\n",
        "if np.all(diag > off_diag):\n",
        "  print('Matrix is diagonally dominant')\n",
        "else:\n",
        "  print('NOT diagonally dominant')\n",
        "\n",
        "x1 = 0\n",
        "x2 = 0\n",
        "x3 = 0\n",
        "epsilon = 0.01\n",
        "converged = False\n",
        "\n",
        "x_old = np.array([x1, x2, x3])\n",
        "\n",
        "print('Iteration results')\n",
        "print('k, x1, x2. x3')\n",
        "for k in range(1, 100):\n",
        "  x1 = (14-10*x1+7*x3)/9\n",
        "  x2 = (5+2*x1-5*x3)/(-8)\n",
        "  x3 = (-8-3*x1-5*x2)/(10)\n",
        "  x = np.array([x2, x2, x3])\n",
        "#check if it is smaller than threshold\n",
        "  dx = np.sqrt(np.dot(x-x_old, x-x_old))\n",
        "\n",
        "  print(\"%d, %.4f, %.4f, %.4f\"% (k, x1, x2, x3))\n",
        "  if dx < epsilon:\n",
        "    converged = True\n",
        "    print('Converged!')\n",
        "    break\n",
        "  #assign the least x value to the old value\n",
        "  x_old = x\n",
        "\n",
        "if not converged:\n",
        "  print('Not converged, increase  the = of iterations')\n",
        "\n",
        "print(np.around(x_old,3))\n"
      ],
      "metadata": {
        "colab": {
          "base_uri": "https://localhost:8080/"
        },
        "id": "7dwcr6845rii",
        "outputId": "1757fd92-6abc-493a-b5c3-fa9af41680d2"
      },
      "execution_count": null,
      "outputs": [
        {
          "output_type": "stream",
          "name": "stdout",
          "text": [
            "NOT diagonally dominant\n",
            "Iteration results\n",
            "k, x1, x2. x3\n",
            "1, 1.5556, -1.0139, -0.7597\n",
            "2, -0.7637, -0.9089, -0.1164\n",
            "3, 2.3136, -1.2762, -0.8560\n",
            "4, -1.6809, -0.7398, 0.0742\n",
            "5, 3.4809, -1.4489, -1.1198\n",
            "6, -3.1830, -0.5291, 0.4195\n",
            "7, 5.4185, -1.7175, -1.5668\n",
            "8, -5.6837, -0.1833, 0.9968\n",
            "9, 8.6460, -2.1635, -2.3120\n",
            "10, -9.8494, 0.3923, 1.9587\n",
            "11, 14.0227, -2.9065, -3.5536\n",
            "12, -16.7891, 1.3513, 3.5611\n",
            "13, 22.9799, -4.1443, -5.6218\n",
            "14, -28.3502, 2.9489, 6.2306\n",
            "15, 37.9018, -6.2063, -9.0674\n",
            "16, -47.6100, 5.6104, 10.6778\n",
            "17, 62.7605, -9.6415, -14.8074\n",
            "18, -79.6952, 10.0442, 18.0865\n",
            "19, 104.1730, -15.3642, -24.3698\n",
            "20, -133.1465, 17.4305, 30.4287\n",
            "21, 173.1629, -24.8978, -40.3000\n",
            "22, -222.1920, 29.7355, 50.9898\n",
            "23, 288.0944, -40.7799, -66.8383\n",
            "24, -370.5347, 50.2347, 85.2431\n",
            "25, 479.5609, -67.2383, -111.0491\n",
            "26, -617.6614, 84.3847, 142.3061\n",
            "27, 798.5286, -111.3158, -184.7007\n",
            "28, -1029.3545, 141.2757, 237.3685\n",
            "29, 1329.9027, -184.7454, -307.3981\n",
            "30, -1715.2015, 236.0516, 395.7347\n",
            "31, 2215.1287, -307.0730, -511.8021\n",
            "32, -2857.7668, 393.9404, 659.5599\n",
            "33, 3689.8430, -510.8609, -852.3225\n",
            "34, -4761.1875, 656.9703, 1099.0711\n",
            "35, 6146.5970, -850.3548, -1419.6017\n",
            "36, -7932.1313, 1095.1568, 1831.2610\n",
            "37, 10239.3489, -1415.9241, -2364.6426\n",
            "38, -13214.6653, 1825.1397, 3051.0298\n",
            "39, 17057.5402, -2358.1164, -3939.0038\n",
            "40, -22014.9365, 3041.2317, 5083.0651\n",
            "41, 28416.0912, -3927.7321, -6561.7613\n",
            "42, -36675.4712, 5067.1420, 8468.2704\n",
            "43, 47338.5116, -6542.5839, -10931.0615\n",
            "44, -61098.7274, 8442.1434, 14107.7465\n",
            "45, 78861.7222, -10898.7140, -18209.9597\n",
            "46, -101785.8821, 14064.6207, 23502.6543\n",
            "47, 131376.8224, -18155.6717, -30336.0109\n",
            "48, -169567.3666, 23431.2099, 39153.8051\n",
            "49, 218862.7002, -30245.1719, -50537.0241\n",
            "50, -282485.7967, 39035.1841, 65227.3470\n",
            "51, 364607.0440, -50385.2942, -84190.2661\n",
            "52, -470598.7004, 65030.1338, 108663.7432\n",
            "53, 607405.2451, -83937.0968, -140253.8252\n",
            "54, -783979.4697, 108335.6017, 181025.2401\n",
            "55, 1011887.2642, -139831.6660, -233651.1462\n",
            "56, -1306046.2962, 180478.9826, 301573.5975\n",
            "57, 1685721.3494, -232947.4639, -389243.4729\n",
            "58, -2175767.0893, 300663.9768, 502397.3384\n",
            "59, 2808274.0291, -388070.7958, -648447.6108\n",
            "60, -3624651.0630, 500882.3840, 836953.3269\n",
            "61, 4678355.3242, -646493.6267, -1080260.5839\n",
            "62, -6038373.7033, 834429.9359, 1394296.3430\n",
            "63, 7793758.3815, -1077005.0060, -1799625.8115\n",
            "64, -10059438.9440, 1390092.9788, 2322784.3938\n",
            "65, 12983766.0218, -1794201.8843, -2998029.6644\n",
            "66, -16758205.9854, 2315782.3311, 3869569.8301\n",
            "67, 21629895.8516, -2988993.4441, -4994472.8334\n",
            "68, -27917806.0389, 3857905.3638, 6446388.3298\n",
            "69, 36033643.6330, -4979418.8272, -8320384.4763\n",
            "70, -46508790.4072, 6426956.6791, 10739157.9826\n",
            "71, 60029113.7722, -8295305.3289, -13861082.2672\n",
            "72, -77479855.5103, 10706786.8356, 17890562.4353\n",
            "73, 100003611.7944, -13819302.0515, -23091433.3126\n",
            "74, -129075126.3480, 17836635.1417, 29804219.5336\n",
            "75, 166597868.2461, -23021830.4780, -38468446.0348\n",
            "76, -215028643.4116, 29714381.4562, 49651401.4954\n",
            "77, 277538473.1760, -38352492.9844, -64085296.2606\n",
            "78, -358220199.0650, 49501738.9784, 82715189.4303\n",
            "79, 462356481.1846, -63892127.5272, -106760881.3918\n",
            "80, -596765663.0654, 82465864.2715, 137796765.9839\n",
            "81, 770248222.9491, -106439077.6223, -177854928.8736\n",
            "82, -994162968.6228, 137381410.9847, 229558184.2945\n",
            "83, 1283170776.6989, -177318829.6157, -296291819.0018\n",
            "84, -1656194498.4446, 228866237.1100, 382425230.1784\n",
            "85, 2137657956.6327, -295398720.9217, -493598027.3290\n",
            "86, -2759085082.6256, 381272502.9508, 637089272.5123\n",
            "87, 3561163971.9824, -492110198.3004, -822294093.2445\n",
            "88, -4596410928.7262, 635168923.2787, 1061338816.1785\n",
            "89, 5932609001.6124, -819815490.9165, -1369874955.8254\n",
            "90, -7657246076.9891, 1058139671.2314, 1768103986.6810\n",
            "91, 9883243187.8509, -1365745805.9121, -2282100054.1992\n",
            "92, -12756348027.1004, 1762774472.2756, 2945517171.1923\n",
            "93, 16464677831.4834, -2275221226.5006, -3801792736.9947\n",
            "94, -21251036384.4219, 2936638634.8588, 4906991597.0972\n",
            "95, 27428811670.8776, -3790333170.1587, -6333476916.9840\n",
            "96, -35402495012.6293, 4892200679.4174, 8174648163.2801\n",
            "97, 45694165253.6949, -6314386211.9987, -10551056470.9091\n",
            "98, -58977671979.9237, 8150007700.0377, 13618297743.1582\n",
            "99, 76122756001.7049, -10519252911.5773, -17577200345.5228\n",
            "Not converged, increase  the = of iterations\n",
            "[-1.05192529e+10 -1.05192529e+10 -1.75772003e+10]\n"
          ]
        }
      ]
    },
    {
      "cell_type": "code",
      "source": [
        "#slide 12\n",
        "\n",
        "A = np.array([[4,3,-5], \n",
        "              [-2, -4, 5],\n",
        "              [8, 8, 0]])\n",
        "y = np.array([2, 5, -3])\n",
        "x = np.linalg.solve(A, y)\n",
        "print(x)\n"
      ],
      "metadata": {
        "colab": {
          "base_uri": "https://localhost:8080/"
        },
        "id": "d-zb2Mqd8eCD",
        "outputId": "8034f561-f1c6-4acf-eed3-425b3334f7e4"
      },
      "execution_count": null,
      "outputs": [
        {
          "output_type": "stream",
          "name": "stdout",
          "text": [
            "[ 2.20833333 -2.58333333 -0.18333333]\n"
          ]
        }
      ]
    },
    {
      "cell_type": "code",
      "source": [
        "import matplotlib.pyplot as plt\n",
        "x = [0, 1, 2, 3]\n",
        "y = [0, 1, 4, 9]\n",
        "plt.plot(x, y)\n",
        "plt.show()"
      ],
      "metadata": {
        "colab": {
          "base_uri": "https://localhost:8080/",
          "height": 265
        },
        "id": "wGWQeXgw_FK8",
        "outputId": "b3388cf8-f42c-47cc-82d1-30acd0e8e0f5"
      },
      "execution_count": null,
      "outputs": [
        {
          "output_type": "display_data",
          "data": {
            "text/plain": [
              "<Figure size 432x288 with 1 Axes>"
            ],
            "image/png": "[encoded data removed]"
          },
          "metadata": {
            "needs_background": "light"
          }
        }
      ]
    },
    {
      "cell_type": "code",
      "source": [
        "import matplotlib.pyplot as plt\n",
        "import pandas as pd\n",
        "\n",
        "ts = pd.Series(np.random.randn(1000), index = pd.date_range(\"1/1/2000\", periods = 1000))\n",
        "ts = ts.cumsum()\n",
        "ts.plot()"
      ],
      "metadata": {
        "colab": {
          "base_uri": "https://localhost:8080/",
          "height": 294
        },
        "id": "u26geCjQ7B5c",
        "outputId": "d599174b-e2fb-45fe-c286-5d2f0c96e332"
      },
      "execution_count": null,
      "outputs": [
        {
          "output_type": "execute_result",
          "data": {
            "text/plain": [
              "<matplotlib.axes._subplots.AxesSubplot at 0x7f0d55bf6950>"
            ]
          },
          "metadata": {},
          "execution_count": 9
        },
        {
          "output_type": "display_data",
          "data": {
            "text/plain": [
              "<Figure size 432x288 with 1 Axes>"
            ],
            "image/png": "[encoded data removed]"
          },
          "metadata": {
            "needs_background": "light"
          }
        }
      ]
    },
    {
      "cell_type": "code",
      "source": [
        "import numpy as np\n",
        "from scipy import optimize\n",
        "import matplotlib.pyplot as plt\n",
        "\n",
        "plt.style.use('seaborn-poster')\n",
        "# generate x and y\n",
        "x = np.linspace(0, 1, 101)\n",
        "y = 1 + x + x * np.random.random(len(x))\n",
        "\n",
        "# assemble matrix A\n",
        "A = np.vstack([x, np.ones(len(x))]).T\n",
        "\n",
        "# turn y into a column vector\n",
        "y = y[:, np.newaxis]\n",
        "\n",
        "# Direct least square regression\n",
        "alpha = np.dot((np.dot(np.linalg.inv(np.dot(A.T,A)),A.T)),y)\n",
        "print(alpha)"
      ],
      "metadata": {
        "colab": {
          "base_uri": "https://localhost:8080/"
        },
        "id": "C3rgRf977GTI",
        "outputId": "02b506dc-61d7-4265-99fe-eb83672c3b5d"
      },
      "execution_count": null,
      "outputs": [
        {
          "output_type": "stream",
          "name": "stdout",
          "text": [
            "[[1.61299626]\n",
            " [0.95275624]]\n"
          ]
        }
      ]
    },
    {
      "cell_type": "code",
      "source": [
        "# plot the results\n",
        "plt.figure(figsize = (10,8))\n",
        "plt.plot(x, y, 'b.')\n",
        "plt.plot(x, alpha[0]*x + alpha[1], 'r')\n",
        "plt.xlabel('x')\n",
        "plt.ylabel('y')\n",
        "plt.show()"
      ],
      "metadata": {
        "colab": {
          "base_uri": "https://localhost:8080/",
          "height": 517
        },
        "id": "FhCNLwcX7JlP",
        "outputId": "c6371f76-f862-4a0b-d006-8e452114c778"
      },
      "execution_count": null,
      "outputs": [
        {
          "output_type": "display_data",
          "data": {
            "text/plain": [
              "<Figure size 720x576 with 1 Axes>"
            ],
            "image/png": "[encoded data removed]"
          },
          "metadata": {
            "needs_background": "light"
          }
        }
      ]
    },
    {
      "cell_type": "code",
      "source": [
        "pinv = np.linalg.pinv(A)\n",
        "alpha = pinv.dot(y)\n",
        "print(alpha)"
      ],
      "metadata": {
        "colab": {
          "base_uri": "https://localhost:8080/"
        },
        "id": "yta3ZJV47PAC",
        "outputId": "548c29e5-66e6-4072-a89f-240bea13b90c"
      },
      "execution_count": null,
      "outputs": [
        {
          "output_type": "stream",
          "name": "stdout",
          "text": [
            "[[1.61299626]\n",
            " [0.95275624]]\n"
          ]
        }
      ]
    },
    {
      "cell_type": "code",
      "source": [
        "alpha = np.linalg.lstsq(A, y, rcond=None)[0]\n",
        "print(alpha)"
      ],
      "metadata": {
        "colab": {
          "base_uri": "https://localhost:8080/"
        },
        "id": "UE25-nI47SYo",
        "outputId": "3efe65e9-5dff-4280-8dfa-346c2a241bf5"
      },
      "execution_count": null,
      "outputs": [
        {
          "output_type": "stream",
          "name": "stdout",
          "text": [
            "[[1.61299626]\n",
            " [0.95275624]]\n"
          ]
        }
      ]
    },
    {
      "cell_type": "code",
      "source": [
        "# generate x and y\n",
        "x = np.linspace(0, 1, 101)\n",
        "y = 1 + x + x * np.random.random(len(x))\n",
        "def func(x, a, b):\n",
        "    y = a*x + b\n",
        "    return y\n",
        "alpha = optimize.curve_fit(func, xdata = x, ydata = y)[0]\n",
        "print(alpha)"
      ],
      "metadata": {
        "id": "rGW92YP97Y6J",
        "outputId": "4ae68b4b-6d36-4799-ee93-f47e2ecf94eb",
        "colab": {
          "base_uri": "https://localhost:8080/"
        }
      },
      "execution_count": null,
      "outputs": [
        {
          "output_type": "stream",
          "name": "stdout",
          "text": [
            "[1.58628727 0.98247491]\n"
          ]
        }
      ]
    }
  ]
}