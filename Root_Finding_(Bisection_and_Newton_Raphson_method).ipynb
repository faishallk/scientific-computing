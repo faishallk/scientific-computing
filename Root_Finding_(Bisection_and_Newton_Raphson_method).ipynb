{
  "nbformat": 4,
  "nbformat_minor": 0,
  "metadata": {
    "colab": {
      "provenance": []
    },
    "kernelspec": {
      "name": "python3",
      "display_name": "Python 3"
    },
    "language_info": {
      "name": "python"
    }
  },
  "cells": [
    {
      "cell_type": "markdown",
      "source": [
        "Nomor 1: BISECTION METHOD"
      ],
      "metadata": {
        "id": "HywssW4xA7OC"
      }
    },
    {
      "cell_type": "code",
      "execution_count": null,
      "metadata": {
        "colab": {
          "base_uri": "https://localhost:8080/"
        },
        "id": "hNljvEX24LQY",
        "outputId": "5b31383c-47db-4033-aaeb-958fa32b549f"
      },
      "outputs": [
        {
          "output_type": "stream",
          "name": "stdout",
          "text": [
            "256.317846\n",
            "-1349\n",
            "\n",
            "\n",
            "*** BISECTION METHOD IMPLEMENTATION ***\n",
            "Iteration-1, x2 = -1.015000 and f(x2) = -5.257482\n",
            "\n",
            "Required Root is : -1.01500000\n",
            "Iteration-2, x2 = 2.477500 and f(x2) = 5.201290\n",
            "\n",
            "Required Root is : 2.47750000\n",
            "Iteration-3, x2 = 0.731250 and f(x2) = 1.839655\n",
            "\n",
            "Required Root is : 0.73125000\n",
            "Iteration-4, x2 = -0.141875 and f(x2) = 2.751771\n",
            "\n",
            "Required Root is : -0.14187500\n",
            "Iteration-5, x2 = -0.578438 and f(x2) = 0.361534\n",
            "\n",
            "Required Root is : -0.57843750\n",
            "Iteration-6, x2 = -0.796719 and f(x2) = -1.981974\n",
            "\n",
            "Required Root is : -0.79671875\n",
            "Iteration-7, x2 = -0.687578 and f(x2) = -0.701520\n",
            "\n",
            "Required Root is : -0.68757813\n",
            "Iteration-8, x2 = -0.633008 and f(x2) = -0.143793\n",
            "\n",
            "Required Root is : -0.63300781\n",
            "Iteration-9, x2 = -0.605723 and f(x2) = 0.115298\n",
            "\n",
            "Required Root is : -0.60572266\n",
            "Iteration-10, x2 = -0.619365 and f(x2) = -0.012625\n",
            "\n",
            "Required Root is : -0.61936523\n",
            "Iteration-11, x2 = -0.612544 and f(x2) = 0.051740\n",
            "\n",
            "Required Root is : -0.61254395\n",
            "Iteration-12, x2 = -0.615955 and f(x2) = 0.019659\n",
            "\n",
            "Required Root is : -0.61595459\n",
            "Iteration-13, x2 = -0.617660 and f(x2) = 0.003542\n",
            "\n",
            "Required Root is : -0.61765991\n",
            "Iteration-14, x2 = -0.618513 and f(x2) = -0.004535\n",
            "\n",
            "Required Root is : -0.61851257\n",
            "Iteration-15, x2 = -0.618086 and f(x2) = -0.000495\n",
            "\n",
            "Required Root is : -0.61808624\n",
            "Iteration-16, x2 = -0.617873 and f(x2) = 0.001524\n",
            "\n",
            "Required Root is : -0.61787308\n",
            "Iteration-17, x2 = -0.617980 and f(x2) = 0.000515\n",
            "\n",
            "Required Root is : -0.61797966\n",
            "Iteration-18, x2 = -0.618033 and f(x2) = 0.000010\n",
            "\n",
            "Required Root is : -0.61803295\n"
          ]
        }
      ],
      "source": [
        "# bisection Method\n",
        "def f(x):\n",
        "  return 2*(x**3) - 5*(x**2) + x + 3\n",
        "\n",
        "#implementing Bisection Method\n",
        "def bisection(x0,x1,e):\n",
        "  step = 1\n",
        "  print('\\n\\n*** BISECTION METHOD IMPLEMENTATION ***')\n",
        "  condition = True\n",
        "  while condition:\n",
        "    x2 = (x0 + x1)/2\n",
        "    print('Iteration-%d, x2 = %0.6f and f(x2) = %0.6f' % (step, x2, f(x2)))\n",
        "\n",
        "    if f(x0) * f(x2) < 0:\n",
        "        x1 = x2\n",
        "    else:\n",
        "        x0 = x2\n",
        "        \n",
        "    step = step + 1\n",
        "    condition = abs(f(x2)) > e\n",
        "\n",
        "    print('\\nRequired Root is : %0.8f' % x2)\n",
        "\n",
        "\n",
        "# Input Section\n",
        "x0 = 5.97\n",
        "x1 = -8\n",
        "e = 0.00001\n",
        "\n",
        "# Checking Correctness of initial guess values and bisecting\n",
        "if f(x0) * f(x1) > 0.0:\n",
        "    print('Given guess values do not bracket the root.')\n",
        "    print('Try Again with different guess values.')\n",
        "    print(f(x0))\n",
        "    print(f(x1))\n",
        "else:\n",
        "    print(f(x0))\n",
        "    print(f(x1))\n",
        "    bisection(x0,x1,e)"
      ]
    },
    {
      "cell_type": "markdown",
      "source": [
        "Nomor 1: Newton Raphson Method"
      ],
      "metadata": {
        "id": "NUQSKB2eBMo4"
      }
    },
    {
      "cell_type": "code",
      "source": [
        "# Defining Function\n",
        "def f(x):\n",
        "    return  2*(x**3) - 5*(x**2) + x + 3\n",
        "\n",
        "# Defining derivative of function\n",
        "def g(x):\n",
        "    return 6*x**2 - 10*x + 1\n",
        "\n",
        "\n",
        "# Implementing Newton Raphson Method\n",
        "\n",
        "def newtonRaphson(x0,e,N):\n",
        "    print('\\n\\n*** NEWTON RAPHSON METHOD IMPLEMENTATION ***')\n",
        "    step = 1\n",
        "    flag = 1\n",
        "    condition = True\n",
        "    while condition:\n",
        "        if g(x0) == 0.0:\n",
        "            print('Divide by zero error!')\n",
        "            break\n",
        "        \n",
        "        x1 = x0 - f(x0)/g(x0) \n",
        "        print('Iteration-%d, x1 = %0.6f and f(x1) = %0.6f' % (step, x1, f(x1)))\n",
        "        x0 = x1\n",
        "        step = step + 1\n",
        "        \n",
        "        if step > N:\n",
        "            flag = 0\n",
        "            break\n",
        "        \n",
        "        condition = abs(f(x1)) > e\n",
        "    \n",
        "    if flag==1:\n",
        "        print('\\nRequired root is: %0.8f' % x1)\n",
        "    else:\n",
        "        print('\\nNot Convergent.')\n",
        "\n",
        "\n",
        "# Input Section\n",
        "x0 = 100\n",
        "e = 0.00001\n",
        "N = 100\n",
        "\n",
        "# Starting Newton Raphson Method\n",
        "newtonRaphson(x0,e,N)\n"
      ],
      "metadata": {
        "colab": {
          "base_uri": "https://localhost:8080/"
        },
        "id": "cNfKuweYBAIc",
        "outputId": "3ae67d1d-c4fb-45e7-952e-d91b631e7879"
      },
      "execution_count": null,
      "outputs": [
        {
          "output_type": "stream",
          "name": "stdout",
          "text": [
            "\n",
            "\n",
            "*** NEWTON RAPHSON METHOD IMPLEMENTATION ***\n",
            "Iteration-1, x1 = 66.947967 and f(x1) = 577785.427394\n",
            "Iteration-2, x1 = 44.915020 and f(x1) = 171180.565578\n",
            "Iteration-3, x1 = 30.228978 and f(x1) = 50710.218180\n",
            "Iteration-4, x1 = 20.442114 and f(x1) = 15018.743746\n",
            "Iteration-5, x1 = 13.923163 and f(x1) = 4445.785305\n",
            "Iteration-6, x1 = 9.585368 and f(x1) = 1314.582158\n",
            "Iteration-7, x1 = 6.705177 and f(x1) = 387.829633\n",
            "Iteration-8, x1 = 4.801295 and f(x1) = 113.902163\n",
            "Iteration-9, x1 = 3.553758 and f(x1) = 33.169978\n",
            "Iteration-10, x1 = 2.749395 and f(x1) = 9.519834\n",
            "Iteration-11, x1 = 2.244661 and f(x1) = 2.671607\n",
            "Iteration-12, x1 = 1.940530 and f(x1) = 0.726987\n",
            "Iteration-13, x1 = 1.766969 and f(x1) = 0.189660\n",
            "Iteration-14, x1 = 1.675052 and f(x1) = 0.045775\n",
            "Iteration-15, x1 = 1.632835 and f(x1) = 0.008851\n",
            "Iteration-16, x1 = 1.619596 and f(x1) = 0.000836\n",
            "Iteration-17, x1 = 1.618055 and f(x1) = 0.000011\n",
            "Iteration-18, x1 = 1.618034 and f(x1) = 0.000000\n",
            "\n",
            "Required root is: 1.61803399\n"
          ]
        }
      ]
    },
    {
      "cell_type": "markdown",
      "source": [
        "Nomor 2: Bisectional Method\n",
        "\n"
      ],
      "metadata": {
        "id": "3oOHwDXqCOE9"
      }
    },
    {
      "cell_type": "code",
      "source": [],
      "metadata": {
        "id": "MaPdKz0iCM74"
      },
      "execution_count": null,
      "outputs": []
    },
    {
      "cell_type": "code",
      "execution_count": null,
      "metadata": {
        "colab": {
          "base_uri": "https://localhost:8080/"
        },
        "outputId": "f7a6fe91-437c-4ad9-da0b-ed51a39f86f5",
        "id": "8eFpKqZ2CWqH"
      },
      "outputs": [
        {
          "output_type": "stream",
          "name": "stdout",
          "text": [
            "-2\n",
            "6\n",
            "\n",
            "\n",
            "*** BISECTION METHOD IMPLEMENTATION ***\n",
            "Iteration-1, x2 = 2.000000 and f(x2) = 1.000000\n",
            "\n",
            "Required Root is : 2.00000000\n",
            "Iteration-2, x2 = 1.500000 and f(x2) = -0.750000\n",
            "\n",
            "Required Root is : 1.50000000\n",
            "Iteration-3, x2 = 1.750000 and f(x2) = 0.062500\n",
            "\n",
            "Required Root is : 1.75000000\n",
            "Iteration-4, x2 = 1.625000 and f(x2) = -0.359375\n",
            "\n",
            "Required Root is : 1.62500000\n",
            "Iteration-5, x2 = 1.687500 and f(x2) = -0.152344\n",
            "\n",
            "Required Root is : 1.68750000\n",
            "Iteration-6, x2 = 1.718750 and f(x2) = -0.045898\n",
            "\n",
            "Required Root is : 1.71875000\n",
            "Iteration-7, x2 = 1.734375 and f(x2) = 0.008057\n",
            "\n",
            "Required Root is : 1.73437500\n",
            "Iteration-8, x2 = 1.726562 and f(x2) = -0.018982\n",
            "\n",
            "Required Root is : 1.72656250\n",
            "Iteration-9, x2 = 1.730469 and f(x2) = -0.005478\n",
            "\n",
            "Required Root is : 1.73046875\n",
            "Iteration-10, x2 = 1.732422 and f(x2) = 0.001286\n",
            "\n",
            "Required Root is : 1.73242188\n",
            "Iteration-11, x2 = 1.731445 and f(x2) = -0.002097\n",
            "\n",
            "Required Root is : 1.73144531\n",
            "Iteration-12, x2 = 1.731934 and f(x2) = -0.000406\n",
            "\n",
            "Required Root is : 1.73193359\n",
            "Iteration-13, x2 = 1.732178 and f(x2) = 0.000440\n",
            "\n",
            "Required Root is : 1.73217773\n",
            "Iteration-14, x2 = 1.732056 and f(x2) = 0.000017\n",
            "\n",
            "Required Root is : 1.73205566\n",
            "Iteration-15, x2 = 1.731995 and f(x2) = -0.000195\n",
            "\n",
            "Required Root is : 1.73199463\n",
            "Iteration-16, x2 = 1.732025 and f(x2) = -0.000089\n",
            "\n",
            "Required Root is : 1.73202515\n",
            "Iteration-17, x2 = 1.732040 and f(x2) = -0.000036\n",
            "\n",
            "Required Root is : 1.73204041\n",
            "Iteration-18, x2 = 1.732048 and f(x2) = -0.000010\n",
            "\n",
            "Required Root is : 1.73204803\n"
          ]
        }
      ],
      "source": [
        "# bisection Method\n",
        "def f(x):\n",
        "  return x**2 - 3\n",
        "\n",
        "\n",
        "#implementing Bisection Method\n",
        "def bisection(x0,x1,e):\n",
        "  step = 1\n",
        "  print('\\n\\n*** BISECTION METHOD IMPLEMENTATION ***')\n",
        "  condition = True\n",
        "  while condition:\n",
        "    x2 = (x0 + x1)/2\n",
        "    print('Iteration-%d, x2 = %0.6f and f(x2) = %0.6f' % (step, x2, f(x2)))\n",
        "\n",
        "    if f(x0) * f(x2) < 0:\n",
        "        x1 = x2\n",
        "    else:\n",
        "        x0 = x2\n",
        "        \n",
        "    step = step + 1\n",
        "    condition = abs(f(x2)) > e\n",
        "\n",
        "    print('\\nRequired Root is : %0.8f' % x2)\n",
        "\n",
        "\n",
        "# Input Section\n",
        "x0 = 1\n",
        "x1 = 3\n",
        "e = 0.00001\n",
        "\n",
        "# Checking Correctness of initial guess values and bisecting\n",
        "if f(x0) * f(x1) > 0.0:\n",
        "    print('Given guess values do not bracket the root.')\n",
        "    print('Try Again with different guess values.')\n",
        "    print(f(x0))\n",
        "    print(f(x1))\n",
        "else:\n",
        "    print(f(x0))\n",
        "    print(f(x1))\n",
        "    bisection(x0,x1,e)"
      ]
    },
    {
      "cell_type": "markdown",
      "source": [
        "Nomor 2: Newthon Raphson method"
      ],
      "metadata": {
        "id": "mCMAysnjCoJ3"
      }
    },
    {
      "cell_type": "code",
      "source": [
        "# Defining Function\n",
        "def f(x):\n",
        "    return  x**2 - 3\n",
        "\n",
        "# Defining derivative of function\n",
        "def g(x): \n",
        "    return 2*x\n",
        "\n",
        "\n",
        "# Implementing Newton Raphson Method\n",
        "\n",
        "def newtonRaphson(x0,e,N):\n",
        "    print('\\n\\n*** NEWTON RAPHSON METHOD IMPLEMENTATION ***')\n",
        "    step = 1\n",
        "    flag = 1\n",
        "    condition = True\n",
        "    while condition:\n",
        "        if g(x0) == 0.0:\n",
        "            print('Divide by zero error!')\n",
        "            break\n",
        "        \n",
        "        x1 = x0 - f(x0)/g(x0) \n",
        "        print('Iteration-%d, x1 = %0.6f and f(x1) = %0.6f' % (step, x1, f(x1)))\n",
        "        x0 = x1\n",
        "        step = step + 1\n",
        "        \n",
        "        if step > N:\n",
        "            flag = 0\n",
        "            break\n",
        "        \n",
        "        condition = abs(f(x1)) > e\n",
        "    \n",
        "    if flag==1:\n",
        "        print('\\nRequired root is: %0.8f' % x1)\n",
        "    else:\n",
        "        print('\\nNot Convergent.')\n",
        "\n",
        "\n",
        "# Input Section\n",
        "x0 = 3 #nilai tebakan \n",
        "e = 0.00001\n",
        "N = 100 #batas iterasi\n",
        "\n",
        "# Starting Newton Raphson Method\n",
        "newtonRaphson(x0,e,N)\n"
      ],
      "metadata": {
        "colab": {
          "base_uri": "https://localhost:8080/"
        },
        "outputId": "0809861c-34b6-4ef6-a6b2-c973b37bfbb7",
        "id": "8SnehVdWCvQO"
      },
      "execution_count": null,
      "outputs": [
        {
          "output_type": "stream",
          "name": "stdout",
          "text": [
            "\n",
            "\n",
            "*** NEWTON RAPHSON METHOD IMPLEMENTATION ***\n",
            "Iteration-1, x1 = 2.000000 and f(x1) = 1.000000\n",
            "Iteration-2, x1 = 1.750000 and f(x1) = 0.062500\n",
            "Iteration-3, x1 = 1.732143 and f(x1) = 0.000319\n",
            "Iteration-4, x1 = 1.732051 and f(x1) = 0.000000\n",
            "\n",
            "Required root is: 1.73205081\n"
          ]
        }
      ]
    }
  ]
}