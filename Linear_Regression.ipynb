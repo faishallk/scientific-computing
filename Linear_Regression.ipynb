{
  "nbformat": 4,
  "nbformat_minor": 0,
  "metadata": {
    "colab": {
      "provenance": []
    },
    "kernelspec": {
      "name": "python3",
      "display_name": "Python 3"
    },
    "language_info": {
      "name": "python"
    }
  },
  "cells": [
    {
      "cell_type": "code",
      "execution_count": null,
      "metadata": {
        "colab": {
          "base_uri": "https://localhost:8080/",
          "height": 316
        },
        "id": "_qrRJeGIpHHr",
        "outputId": "7a402d60-6ed0-4225-fcdb-7610dd7e59cf"
      },
      "outputs": [
        {
          "output_type": "stream",
          "name": "stdout",
          "text": [
            " linear regresinya: y = 0.12315151515151516x + (-18.500000000000007)\n",
            "F untuk 25 cm:  353.2229999999612\n"
          ]
        },
        {
          "output_type": "display_data",
          "data": {
            "text/plain": [
              "<Figure size 432x288 with 1 Axes>"
            ],
            "image/png": "[encoded data removed]"
          },
          "metadata": {
            "needs_background": "light"
          }
        }
      ],
      "source": [
        "x = [60, 120, 180, 240, 300, 360, 420, 480, 540, 600]\n",
        "y = [2.6, 3.1, 4.6, 6.5, 8.5, 11.0, 15.2, 34.7, 65.8, 69.4]\n",
        "\n",
        "#Regression\n",
        "import math\n",
        "import matplotlib.pyplot as plt\n",
        "from scipy import stats\n",
        "import numpy as np\n",
        "\n",
        "slope, intercept, r, p, std_err = stats.linregress(x, y)\n",
        "\n",
        "def myfunc(x):\n",
        "  return slope * x + intercept\n",
        "\n",
        "mymodel = list(map(myfunc, x))\n",
        "\n",
        "def roundup(a, digits=0):\n",
        "    n = 10**-digits\n",
        "    return round(math.ceil(a / n) * n, digits)\n",
        "\n",
        "for i in np.arange(1, 600, 0.001):\n",
        "  gaya = i\n",
        "  if roundup(myfunc(i), 4) == 25:\n",
        "    break\n",
        "\n",
        "print(f' linear regresinya: y = {slope}x + ({intercept})')\n",
        "print(f'F untuk 25 cm:  {gaya}')\n",
        "plt.xlabel('F (newton)')\n",
        "plt.ylabel('Delta x (cm)')\n",
        "plt.scatter(x, y)\n",
        "plt.plot(x, mymodel, 'c')\n",
        "plt.plot(gaya, 50, 'ro')\n",
        "plt.show()"
      ]
    }
  ]
}